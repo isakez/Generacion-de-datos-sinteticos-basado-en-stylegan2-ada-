{
 "cells": [
  {
   "cell_type": "code",
   "execution_count": null,
   "metadata": {
    "colab": {
     "base_uri": "https://localhost:8080/"
    },
    "id": "RTbv1kJQAUlt",
    "outputId": "6358d1a1-de60-4c06-ebcc-369d1766d800",
    "tags": []
   },
   "outputs": [],
   "source": [
    "!pip install pynrrd\n",
    "!pip install ipywidgets\n",
    "!pip install scipy"
   ]
  },
  {
   "cell_type": "markdown",
   "metadata": {
    "id": "q_bxM95kAZ-4"
   },
   "source": [
    "\n"
   ]
  },
  {
   "cell_type": "code",
   "execution_count": 1,
   "metadata": {
    "tags": []
   },
   "outputs": [],
   "source": [
    "import os\n",
    "import glob\n",
    "import numpy as np\n",
    "import nrrd\n",
    "import timeit\n",
    "import matplotlib.pyplot as plt\n",
    "from ipywidgets import interact, interactive, IntSlider, ToggleButtons\n",
    "from scipy import ndimage\n"
   ]
  },
  {
   "cell_type": "markdown",
   "metadata": {},
   "source": [
    "En el siguiente bloque definimos las funciones necesarias para realizar la extracción de imágenes del modelo 3D"
   ]
  },
  {
   "cell_type": "code",
   "execution_count": 2,
   "metadata": {
    "colab": {
     "base_uri": "https://localhost:8080/"
    },
    "id": "WTcpm5lLAYji",
    "outputId": "489b8a1a-38e5-4991-f2cf-39bb784eae44",
    "tags": []
   },
   "outputs": [],
   "source": [
    "\n",
    "def extract_slices(data, angle, plane):\n",
    "    slices = []\n",
    "    x_size, y_size, z_size = data.shape\n",
    "\n",
    "    if plane == 'x':\n",
    "        # Rotamos la imagen 3D respecto el plano x\n",
    "        rotated_data = ndimage.rotate(data, angle, axes=(1, 0), reshape=True)\n",
    "        for i in range(x_size):\n",
    "            slices.append(rotated_data[i, :, :])\n",
    "    elif plane == 'z':\n",
    "        # Rotamos la imagen 3D respecto el plano z\n",
    "        rotated_data_z = ndimage.rotate(data, angle, axes=(1, 2), reshape=True)\n",
    "        for i in range(z_size):\n",
    "            slices.append(rotated_data_z[:, :, i])\n",
    "\n",
    "    return slices\n",
    "\n",
    "\n",
    "def read_nrrd_file(filename):\n",
    "    data, header = nrrd.read(filename)\n",
    "    return data, header\n",
    "\n",
    "\n",
    "def save_slices(slices, output_dir, filename, plane, angle):\n",
    "    file_name = os.path.splitext(filename)[0]\n",
    "    for i, slice_image in enumerate(slices):\n",
    "        # Determinamos si son ruido, en este caso las primeras 20 y las ultimas 20.\n",
    "        if i < 20 or i >= len(slices) - 20:\n",
    "            folder_name = \"ruido\"\n",
    "        else:\n",
    "            folder_name = f\"plane_{plane}\"\n",
    "\n",
    "        # Creamos los directorios necesarios\n",
    "        plane_dir = os.path.join(output_dir, file_name, folder_name)\n",
    "        angle_dir = os.path.join(plane_dir, f\"angle_{angle}\")\n",
    "        os.makedirs(angle_dir, exist_ok=True)\n",
    "\n",
    "        # Los nombramos como, nombre del archivo, angulo, indice.\n",
    "        slice_filename = os.path.join(angle_dir, f\"{file_name}_slice_{angle}_{i}.png\")\n",
    "        plt.imsave(slice_filename, slice_image, cmap='gray')\n"
   ]
  },
  {
   "cell_type": "code",
   "execution_count": 3,
   "metadata": {
    "tags": []
   },
   "outputs": [],
   "source": [
    "\n",
    "def main(input_dir, output_dir):\n",
    "    # Obtenemos los archivos NRRD del directorio\n",
    "    nrrd_files = glob.glob(os.path.join(input_dir, \"*.nrrd\"))\n",
    "\n",
    "    # Procesamos cada archivo NRRD\n",
    "    for nrrd_file in nrrd_files:\n",
    "        print(f\"Processing {nrrd_file}\")\n",
    "\n",
    "        # Usamos la funcion read_nrrd_file para obtener la forma y dimensiones\n",
    "        data, header = read_nrrd_file(nrrd_file)\n",
    "        print(f\"Image dimensions: {data.shape}\")\n",
    "        print(f\"Range of motion (x, y, z): {header['sizes']}\")\n",
    "\n",
    "        # Extraemos y guardamos los cortes\n",
    "        angles = list(range(-21, 21, 5))  # realizamos los cortes cada 5 grados\n",
    "        planes = ['x', 'z']  # Escogemos los panos sobre los que hacemos la rotacion\n",
    "\n",
    "        for plane in planes:\n",
    "            for angle in angles:\n",
    "                slices = extract_slices(data, angle, plane)\n",
    "                save_slices(slices, output_dir, os.path.basename(nrrd_file), plane, angle)\n"
   ]
  },
  {
   "cell_type": "code",
   "execution_count": 4,
   "metadata": {
    "tags": []
   },
   "outputs": [
    {
     "name": "stdout",
     "output_type": "stream",
     "text": [
      "Processing /home/isaac/git/clasificador-imagenes-ultrasonidos/archivos_nrrd/4_2013_06_30.nrrd\n",
      "Image dimensions: (251, 195, 217)\n",
      "Range of motion (x, y, z): [251 195 217]\n",
      "Processing /home/isaac/git/clasificador-imagenes-ultrasonidos/archivos_nrrd/1_2013_11_08.nrrd\n",
      "Image dimensions: (251, 187, 217)\n",
      "Range of motion (x, y, z): [251 187 217]\n",
      "Processing /home/isaac/git/clasificador-imagenes-ultrasonidos/archivos_nrrd/4075542_2015_10_04.nrrd\n",
      "Image dimensions: (199, 203, 211)\n",
      "Range of motion (x, y, z): [199 203 211]\n",
      "Processing /home/isaac/git/clasificador-imagenes-ultrasonidos/archivos_nrrd/1_2013_11_15.nrrd\n",
      "Image dimensions: (251, 189, 217)\n",
      "Range of motion (x, y, z): [251 189 217]\n"
     ]
    }
   ],
   "source": [
    "if __name__ == \"__main__\":\n",
    "    input_dir = \"/home/isaac/git/clasificador-imagenes-ultrasonidos/archivos_nrrd/\"  # Directorio con los archivos NRRD\n",
    "    output_dir = \"/home/isaac/git/clasificador-imagenes-ultrasonidos/datos_Nuevoinicio\"  # Directorio donde se guardarán las rodajas\n",
    "    main(input_dir, output_dir)"
   ]
  },
  {
   "cell_type": "markdown",
   "metadata": {},
   "source": [
    "Este es un paso intermedio para mover los cortes a sus planos medicos correspondientes. "
   ]
  },
  {
   "cell_type": "code",
   "execution_count": 5,
   "metadata": {},
   "outputs": [],
   "source": [
    "\n",
    "import shutil\n",
    "\n",
    "# Define the directory with the current images and the new dataset directory\n",
    "current_dir = \"/home/isaac/git/clasificador-imagenes-ultrasonidos/datos_Nuevoinicio\"\n",
    "dataset_dir = \"/home/isaac/git/clasificador-imagenes-ultrasonidos/datos_Nuevoinicio_org\"\n",
    "\n",
    "# Create the new directories\n",
    "os.makedirs(os.path.join(dataset_dir, \"plano_sagital\"), exist_ok=True)\n",
    "os.makedirs(os.path.join(dataset_dir, \"plano_coronal\"), exist_ok=True)\n",
    "os.makedirs(os.path.join(dataset_dir, \"ruido\"), exist_ok=True)\n",
    "\n",
    "# Move the images to the new directories\n",
    "for root, dirs, files in os.walk(current_dir):\n",
    "    for file in files:\n",
    "        if file.endswith(\".png\"):\n",
    "            if \"plane_x\" in root:\n",
    "                shutil.move(os.path.join(root, file), os.path.join(dataset_dir, \"plano_sagital\", file))\n",
    "            elif \"plane_z\" in root:\n",
    "                shutil.move(os.path.join(root, file), os.path.join(dataset_dir, \"plano_coronal\", file))\n",
    "            elif \"ruido\" in root:\n",
    "                shutil.move(os.path.join(root, file), os.path.join(dataset_dir, \"ruido\", file))\n"
   ]
  },
  {
   "cell_type": "markdown",
   "metadata": {},
   "source": [
    "Reescalamos las imagenes para que tengan todas el mismo tamaño, además las pasamos a formato RGB."
   ]
  },
  {
   "cell_type": "code",
   "execution_count": 6,
   "metadata": {},
   "outputs": [],
   "source": [
    "\n",
    "from PIL import Image\n",
    "import os\n",
    "\n",
    "def resize_images(input_dir, output_dir, size=(256, 256)):\n",
    "    os.makedirs(output_dir, exist_ok=True)\n",
    "    \n",
    "    for root, dirs, files in os.walk(input_dir):\n",
    "        # Mantenemos la estructura de subdirectorios\n",
    "        relative_path = os.path.relpath(root, input_dir)\n",
    "        new_root = os.path.join(output_dir, relative_path)\n",
    "        os.makedirs(new_root, exist_ok=True)\n",
    "        \n",
    "        for file in files:\n",
    "            if file.endswith(\".png\"):\n",
    "                input_path = os.path.join(root, file)\n",
    "                output_path = os.path.join(new_root, file)\n",
    "                \n",
    "                image = Image.open(input_path)\n",
    "\n",
    "                if image.mode not in ('RGB', 'L'):\n",
    "                    image = image.convert('RGB')\n",
    "\n",
    "                resized_image = image.resize(size, Image.LANCZOS)\n",
    "                resized_image.save(output_path)\n",
    "\n",
    "dataset_directory = \"/home/isaac/git/clasificador-imagenes-ultrasonidos/datos_Nuevoinicio_org\"\n",
    "output_directory = \"/home/isaac/git/clasificador-imagenes-ultrasonidos/dataset_resized_NuevoInicio\"\n",
    "resize_images(dataset_directory, output_directory)\n",
    "\n"
   ]
  },
  {
   "cell_type": "code",
   "execution_count": null,
   "metadata": {},
   "outputs": [],
   "source": []
  }
 ],
 "metadata": {
  "colab": {
   "provenance": []
  },
  "kernelspec": {
   "display_name": "Python 3 (ipykernel)",
   "language": "python",
   "name": "python3"
  },
  "language_info": {
   "codemirror_mode": {
    "name": "ipython",
    "version": 3
   },
   "file_extension": ".py",
   "mimetype": "text/x-python",
   "name": "python",
   "nbconvert_exporter": "python",
   "pygments_lexer": "ipython3",
   "version": "3.10.10"
  }
 },
 "nbformat": 4,
 "nbformat_minor": 4
}
